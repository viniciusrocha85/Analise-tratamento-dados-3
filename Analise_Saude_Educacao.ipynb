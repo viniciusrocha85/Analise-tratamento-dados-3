{
  "nbformat": 4,
  "nbformat_minor": 0,
  "metadata": {
    "colab": {
      "provenance": [],
      "collapsed_sections": [
        "FjmJWgDIj3WE",
        "ajNBM-Klj7qP"
      ],
      "mount_file_id": "15HzdGugO-5UvaiqAiy0UZe-x0UynO96P",
      "authorship_tag": "ABX9TyOgXiDb1g47C36OORQQ0GdR",
      "include_colab_link": true
    },
    "kernelspec": {
      "name": "python3",
      "display_name": "Python 3"
    },
    "language_info": {
      "name": "python"
    }
  },
  "cells": [
    {
      "cell_type": "markdown",
      "metadata": {
        "id": "view-in-github",
        "colab_type": "text"
      },
      "source": [
        "<a href=\"https://colab.research.google.com/github/viniciusrocha85/Analise-tratamento-dados-3/blob/main/Analise_Saude_Educacao.ipynb\" target=\"_parent\"><img src=\"https://colab.research.google.com/assets/colab-badge.svg\" alt=\"Open In Colab\"/></a>"
      ]
    },
    {
      "cell_type": "code",
      "execution_count": null,
      "metadata": {
        "id": "tgZ7frQ_SNhS"
      },
      "outputs": [],
      "source": [
        "import pandas as pd"
      ]
    },
    {
      "cell_type": "code",
      "source": [
        "#Import do Arquivo da base de dados de Dengue\n",
        "path_dengue = '/content/drive/MyDrive/Unifor-Ciencia de Dados/Bases de Dados/Base de Dengue3.csv'"
      ],
      "metadata": {
        "id": "xHRS1M_oingo"
      },
      "execution_count": null,
      "outputs": []
    },
    {
      "cell_type": "code",
      "source": [
        "#Import do Arquivo da base de dados de Alunos\n",
        "path_alunos = '/content/drive/MyDrive/Unifor-Ciencia de Dados/Bases de Dados/Base de Alunos3.csv'"
      ],
      "metadata": {
        "id": "Hk_onrV9inYC"
      },
      "execution_count": null,
      "outputs": []
    },
    {
      "cell_type": "code",
      "source": [
        "#Lendo o arquivo \"path_dengue\"\n",
        "df_dengue = pd.read_csv(path_dengue, sep=';')"
      ],
      "metadata": {
        "id": "ccH82-U1T00I"
      },
      "execution_count": null,
      "outputs": []
    },
    {
      "cell_type": "code",
      "source": [
        "#Lendo o arquivo \"path_alunos\"\n",
        "df_alunos = pd.read_csv(path_alunos, sep=';')"
      ],
      "metadata": {
        "id": "foNXDhCZUSfO"
      },
      "execution_count": null,
      "outputs": []
    },
    {
      "cell_type": "code",
      "source": [
        "lista_nomes_alunos = list(df_alunos['Nome'])"
      ],
      "metadata": {
        "id": "JTdOe6pbopT7"
      },
      "execution_count": null,
      "outputs": []
    },
    {
      "cell_type": "code",
      "source": [
        "df_alunos_sem_dengue = df_dengue[~df_dengue['Nome'].isin(lista_nomes_alunos)]"
      ],
      "metadata": {
        "id": "xiTqcjNTo2Sq"
      },
      "execution_count": null,
      "outputs": []
    },
    {
      "cell_type": "code",
      "source": [
        "df_alunos_com_dengue = df_dengue[df_dengue['Nome'].isin(lista_nomes_alunos)]"
      ],
      "metadata": {
        "id": "TSDuMZoJTDmm"
      },
      "execution_count": null,
      "outputs": []
    },
    {
      "cell_type": "code",
      "source": [
        "df_alunos_sem_dengue.info()"
      ],
      "metadata": {
        "id": "7qqEIvaKrlqS"
      },
      "execution_count": null,
      "outputs": []
    },
    {
      "cell_type": "code",
      "source": [
        "df_alunos_com_dengue.info()"
      ],
      "metadata": {
        "id": "0cc5Q4hnTdgk"
      },
      "execution_count": null,
      "outputs": []
    },
    {
      "cell_type": "code",
      "source": [
        "# #Export do novo dataframe tratado (alunos com dengue)\n",
        "# df_dengue_nao_alunos.to_excel('Pessoas não alunas com Dengue.xlsx')"
      ],
      "metadata": {
        "id": "kJcFBhNQ-T-V"
      },
      "execution_count": null,
      "outputs": []
    },
    {
      "cell_type": "code",
      "source": [
        "# #Export do novo dataframe tratado (alunos com dengue)\n",
        "# df_alunos_com_dengue.to_excel('Alunos com Dengue3.xlsx')"
      ],
      "metadata": {
        "id": "A3HTiOjiTDmm"
      },
      "execution_count": null,
      "outputs": []
    }
  ]
}